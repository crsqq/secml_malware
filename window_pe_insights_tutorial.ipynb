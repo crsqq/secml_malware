{
 "cells": [
  {
   "cell_type": "markdown",
   "metadata": {
    "pycharm": {
     "name": "#%% md\n"
    }
   },
   "source": [
    "# The Windows PE file format\n",
    "There are tons of Python libraries for dissecting programs, one of the best is [lief](https://github.com/lief-project/LIEF).\n",
    "The latter is also used inside `secml-malware` to perturb samples, as shown in the other tutorials.\n",
    "Opening an executable is straight-forward:"
   ]
  },
  {
   "cell_type": "code",
   "execution_count": 2,
   "metadata": {
    "pycharm": {
     "name": "#%%\n"
    },
    "ExecuteTime": {
     "end_time": "2023-10-20T08:35:47.465227Z",
     "start_time": "2023-10-20T08:35:47.384703Z"
    }
   },
   "outputs": [],
   "source": [
    "import lief\n",
    "\n",
    "exe_path = \"secml_malware/data/goodware_samples/cmd.exe\"\n",
    "exe_object: lief.PE = lief.parse(exe_path)"
   ]
  },
  {
   "cell_type": "markdown",
   "metadata": {
    "pycharm": {
     "name": "#%% md\n"
    }
   },
   "source": [
    "Now, the `exe_object` contains all the information of the loaded program.\n",
    "We can look for all the components. For instance, here is how you can read the header metadata:"
   ]
  },
  {
   "cell_type": "code",
   "execution_count": 3,
   "metadata": {
    "pycharm": {
     "name": "#%%\n"
    },
    "ExecuteTime": {
     "end_time": "2023-10-20T08:35:49.143814Z",
     "start_time": "2023-10-20T08:35:49.137305Z"
    }
   },
   "outputs": [
    {
     "name": "stdout",
     "output_type": "stream",
     "text": [
      "DOS Header\n",
      "Magic:                        5a4d\n",
      "Used Bytes In The LastPage:   90\n",
      "File Size In Pages:           3\n",
      "Number Of Relocation:         0\n",
      "Header Size In Paragraphs:    4\n",
      "Minimum Extra Paragraphs:     0\n",
      "Maximum Extra Paragraphs:     ffff\n",
      "Initial Relative SS:          0\n",
      "Initial SP:                   b8\n",
      "Checksum:                     0\n",
      "Initial IP:                   0\n",
      "Initial Relative CS:          0\n",
      "Address Of Relocation Table:  40\n",
      "Overlay Number:               0\n",
      "OEM id:                       0\n",
      "OEM info:                     0\n",
      "Address Of New Exe Header:    f8\n",
      "\n",
      "PE Header\n",
      "Signature:                    50 45 0 0 \n",
      "Machine:                      AMD64\n",
      "Number Of Sections:           7\n",
      "Pointer To Symbol Table:      0\n",
      "Number Of Symbols:            0\n",
      "Size Of Optional Header:      f0\n",
      "Characteristics:              EXECUTABLE_IMAGE - LARGE_ADDRESS_AWARE\n",
      "Time Date Stamp:              98868d68\n",
      "\n",
      "Optional Header\n",
      "Magic:                           20b\n",
      "Major Linker Version:            e\n",
      "Minor Linker Version:            f\n",
      "Size Of Code:                    2ea00\n",
      "Size Of Initialized Data:        31200\n",
      "Size Of Uninitialized Data:      0\n",
      "Address Of Entry Point:          182b0\n",
      "Base Of Code:                    1000\n",
      "Base Of Data:                    0\n",
      "Image Base:                      140000000\n",
      "Section Alignment:               1000\n",
      "File Alignment:                  200\n",
      "Major Operating System Version:  a\n",
      "Minor Operating System Version:  0\n",
      "Major Image Version:             a\n",
      "Minor Image Version:             0\n",
      "Major Subsystem Version:         a\n",
      "Minor Subsystem Version:         0\n",
      "Win32 Version Value:             0\n",
      "Size Of Image:                   65000\n",
      "Size Of Headers:                 400\n",
      "CheckSum:                        4f290\n",
      "Subsystem:                       WINDOWS_CUI\n",
      "DLL Characteristics:             \n",
      "- HIGH_ENTROPY_VA\n",
      "- DYNAMIC_BASE\n",
      "- NX_COMPAT\n",
      "- GUARD_CF\n",
      "- TERMINAL_SERVER_AWARE\n",
      "Size Of Stack Reserve:           100000\n",
      "Size Of Stack Commit:            fc000\n",
      "Size Of Heap Reserve:            100000\n",
      "Size Of Heap Commit:             1000\n",
      "Loader Flags:                    0\n",
      "Number Of RVA And Size:          10\n",
      "\n",
      "Sections\n",
      ".text {<SECTION_CHARACTERISTICS.CNT_CODE: 32>, <SECTION_CHARACTERISTICS.MEM_EXECUTE: 536870912>, <SECTION_CHARACTERISTICS.MEM_READ: 1073741824>}\n",
      ".rdata {<SECTION_CHARACTERISTICS.CNT_INITIALIZED_DATA: 64>, <SECTION_CHARACTERISTICS.MEM_READ: 1073741824>}\n",
      ".data {<SECTION_CHARACTERISTICS.CNT_INITIALIZED_DATA: 64>, <SECTION_CHARACTERISTICS.MEM_READ: 1073741824>, <SECTION_CHARACTERISTICS.MEM_WRITE: 2147483648>}\n",
      ".pdata {<SECTION_CHARACTERISTICS.CNT_INITIALIZED_DATA: 64>, <SECTION_CHARACTERISTICS.MEM_READ: 1073741824>}\n",
      ".didat {<SECTION_CHARACTERISTICS.CNT_INITIALIZED_DATA: 64>, <SECTION_CHARACTERISTICS.MEM_READ: 1073741824>, <SECTION_CHARACTERISTICS.MEM_WRITE: 2147483648>}\n",
      ".rsrc {<SECTION_CHARACTERISTICS.CNT_INITIALIZED_DATA: 64>, <SECTION_CHARACTERISTICS.MEM_READ: 1073741824>}\n",
      ".reloc {<SECTION_CHARACTERISTICS.CNT_INITIALIZED_DATA: 64>, <SECTION_CHARACTERISTICS.MEM_DISCARDABLE: 33554432>, <SECTION_CHARACTERISTICS.MEM_READ: 1073741824>}\n"
     ]
    }
   ],
   "source": [
    "print('DOS Header')\n",
    "print(exe_object.dos_header)\n",
    "\n",
    "print('PE Header')\n",
    "print(exe_object.header)\n",
    "\n",
    "print('Optional Header')\n",
    "print(exe_object.optional_header)\n",
    "\n",
    "print('Sections')\n",
    "for s in exe_object.sections:\n",
    "\tprint(s.name, s.characteristics_lists)"
   ]
  },
  {
   "cell_type": "markdown",
   "metadata": {
    "pycharm": {
     "name": "#%% md\n"
    }
   },
   "source": [
    "This library is also very useful for manipulating the EXEs.\n",
    "For instance, in few lines of code you can add sections to a program."
   ]
  },
  {
   "cell_type": "code",
   "execution_count": 4,
   "metadata": {
    "pycharm": {
     "name": "#%%\n"
    },
    "ExecuteTime": {
     "end_time": "2023-10-20T08:40:33.665844Z",
     "start_time": "2023-10-20T08:40:33.658890Z"
    }
   },
   "outputs": [
    {
     "name": "stdout",
     "output_type": "stream",
     "text": [
      "Sections\n",
      ".text {<SECTION_CHARACTERISTICS.CNT_CODE: 32>, <SECTION_CHARACTERISTICS.MEM_EXECUTE: 536870912>, <SECTION_CHARACTERISTICS.MEM_READ: 1073741824>}\n",
      ".rdata {<SECTION_CHARACTERISTICS.CNT_INITIALIZED_DATA: 64>, <SECTION_CHARACTERISTICS.MEM_READ: 1073741824>}\n",
      ".data {<SECTION_CHARACTERISTICS.CNT_INITIALIZED_DATA: 64>, <SECTION_CHARACTERISTICS.MEM_READ: 1073741824>, <SECTION_CHARACTERISTICS.MEM_WRITE: 2147483648>}\n",
      ".pdata {<SECTION_CHARACTERISTICS.CNT_INITIALIZED_DATA: 64>, <SECTION_CHARACTERISTICS.MEM_READ: 1073741824>}\n",
      ".didat {<SECTION_CHARACTERISTICS.CNT_INITIALIZED_DATA: 64>, <SECTION_CHARACTERISTICS.MEM_READ: 1073741824>, <SECTION_CHARACTERISTICS.MEM_WRITE: 2147483648>}\n",
      ".rsrc {<SECTION_CHARACTERISTICS.CNT_INITIALIZED_DATA: 64>, <SECTION_CHARACTERISTICS.MEM_READ: 1073741824>}\n",
      ".reloc {<SECTION_CHARACTERISTICS.CNT_INITIALIZED_DATA: 64>, <SECTION_CHARACTERISTICS.MEM_DISCARDABLE: 33554432>, <SECTION_CHARACTERISTICS.MEM_READ: 1073741824>}\n",
      ".newsec {<SECTION_CHARACTERISTICS.MEM_DISCARDABLE: 33554432>}\n"
     ]
    }
   ],
   "source": [
    "# Name your new section. Size constraint: up to 8 bytes at maximum!\n",
    "new_section : lief.PE.Section = lief.PE.Section()\n",
    "new_section.name = '.newsec'\n",
    "new_section.content = [ord(i) for i in \"This is my newly created section\"]\n",
    "new_section.characteristics = lief.PE.SECTION_CHARACTERISTICS.MEM_DISCARDABLE\n",
    "exe_object.add_section(new_section)\n",
    "\n",
    "# New section in place! Now we use lief to rebuild the binary.\n",
    "builder = lief.PE.Builder(exe_object)\n",
    "builder.build()\n",
    "exe_object = lief.PE.parse(builder.get_build())\n",
    "print('Sections')\n",
    "for s in exe_object.sections:\n",
    "\tprint(s.name, s.characteristics_lists)\n",
    "builder.write('new_exe.file')"
   ]
  },
  {
   "cell_type": "markdown",
   "metadata": {
    "pycharm": {
     "name": "#%% md\n"
    }
   },
   "source": [
    "As you can see, the new section appeared as last one.\n",
    "More information on how to use lief on the [documentation of the library](https://lief-project.github.io/doc/stable/index.html)."
   ]
  }
 ],
 "metadata": {
  "kernelspec": {
   "display_name": "Python 3",
   "language": "python",
   "name": "python3"
  },
  "language_info": {
   "codemirror_mode": {
    "name": "ipython",
    "version": 3
   },
   "file_extension": ".py",
   "mimetype": "text/x-python",
   "name": "python",
   "nbconvert_exporter": "python",
   "pygments_lexer": "ipython3",
   "version": "3.7.7"
  }
 },
 "nbformat": 4,
 "nbformat_minor": 1
}
